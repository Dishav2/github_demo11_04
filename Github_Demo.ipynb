{
  "nbformat": 4,
  "nbformat_minor": 0,
  "metadata": {
    "colab": {
      "provenance": [],
      "collapsed_sections": []
    },
    "kernelspec": {
      "name": "python3",
      "display_name": "Python 3"
    },
    "language_info": {
      "name": "python"
    }
  },
  "cells": [
    {
      "cell_type": "code",
      "execution_count": null,
      "metadata": {
        "id": "SeLFXCVf5KMd"
      },
      "outputs": [],
      "source": [
        "#Use this code for the git-demo\n",
        "#write your name\n",
        "\n",
        "name = \"PRACHI NERKAR\""
      ]
    }
  ]
}